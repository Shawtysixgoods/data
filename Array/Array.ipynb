{
 "cells": [
  {
   "cell_type": "markdown",
   "metadata": {},
   "source": [
    "Использование списка (list) в качестве динамического массива"
   ]
  },
  {
   "cell_type": "code",
   "execution_count": null,
   "metadata": {},
   "outputs": [],
   "source": [
    "# Создание списка (динамический массив)\n",
    "my_list = []\n",
    "\n",
    "# Добавление элементов\n",
    "my_list.append(10)\n",
    "my_list.append(20)\n",
    "\n",
    "# Чтение элемента по индексу\n",
    "print(my_list[0])  # Вывод: 10\n",
    "\n",
    "# Удаление элемента\n",
    "my_list.remove(10)\n",
    "\n",
    "# Текущий список\n",
    "print(my_list)  # Вывод: [20]\n"
   ]
  },
  {
   "cell_type": "markdown",
   "metadata": {},
   "source": [
    "Использование модуля array"
   ]
  },
  {
   "cell_type": "code",
   "execution_count": null,
   "metadata": {},
   "outputs": [],
   "source": [
    "import array\n",
    "\n",
    "# Создание массива типа 'i' (целые числа)\n",
    "my_array = array.array('i', [1, 2, 3, 4])\n",
    "\n",
    "# Добавление элемента\n",
    "my_array.append(5)\n",
    "\n",
    "# Чтение элемента по индексу\n",
    "print(my_array[2])  # Вывод: 3\n",
    "\n",
    "# Удаление элемента по значению\n",
    "my_array.remove(2)\n",
    "\n",
    "print(my_array)  # Вывод: array('i', [1, 3, 4, 5])\n"
   ]
  },
  {
   "cell_type": "markdown",
   "metadata": {},
   "source": [
    "Ниже — искусственный пример, поскольку в Python обычно используют готовые структуры. Тем не менее, это демонстрирует концепцию:"
   ]
  },
  {
   "cell_type": "code",
   "execution_count": null,
   "metadata": {},
   "outputs": [],
   "source": [
    "class MyArray:\n",
    "    def __init__(self, capacity=10):\n",
    "        \"\"\"\n",
    "        Инициализируем свой массив с заранее заданной емкостью (capacity).\n",
    "        В реальности этот класс не нужен, так как мы можем использовать list или array.\n",
    "        \"\"\"\n",
    "        self.capacity = capacity          # Максимальное количество элементов\n",
    "        self.count = 0                    # Текущее число элементов\n",
    "        self.data = [None] * capacity     # Массив фиксированного размера\n",
    "\n",
    "    def insert(self, index, value):\n",
    "        \"\"\"\n",
    "        Вставка элемента по индексу.\n",
    "        Если массив переполнен, можно либо выдать ошибку, либо расширить массив.\n",
    "        Для упрощения - выдадим ошибку.\n",
    "        \"\"\"\n",
    "        if self.count == self.capacity:\n",
    "            print(\"Массив переполнен!\")\n",
    "            return\n",
    "\n",
    "        # Проверка индекса\n",
    "        if index < 0 or index > self.count:\n",
    "            print(\"Неверный индекс!\")\n",
    "            return\n",
    "\n",
    "        # Сдвигаем элементы вправо от index до конца\n",
    "        for i in range(self.count, index, -1):\n",
    "            self.data[i] = self.data[i - 1]\n",
    "\n",
    "        # Вставляем новое значение\n",
    "        self.data[index] = value\n",
    "        self.count += 1\n",
    "\n",
    "    def remove(self, index):\n",
    "        \"\"\"\n",
    "        Удаление элемента по индексу с сдвигом.\n",
    "        \"\"\"\n",
    "        if index < 0 or index >= self.count:\n",
    "            print(\"Неверный индекс!\")\n",
    "            return\n",
    "\n",
    "        # Сдвигаем элементы влево\n",
    "        for i in range(index, self.count - 1):\n",
    "            self.data[i] = self.data[i + 1]\n",
    "\n",
    "        # Освобождаем последнюю ячейку (уже не нужна)\n",
    "        self.data[self.count - 1] = None\n",
    "        self.count -= 1\n",
    "\n",
    "    def get(self, index):\n",
    "        \"\"\"\n",
    "        Получение элемента по индексу.\n",
    "        \"\"\"\n",
    "        if index < 0 or index >= self.count:\n",
    "            print(\"Неверный индекс!\")\n",
    "            return None\n",
    "        return self.data[index]\n",
    "\n",
    "    def size(self):\n",
    "        \"\"\"\n",
    "        Текущее число элементов.\n",
    "        \"\"\"\n",
    "        return self.count\n",
    "\n",
    "\n",
    "# Пример использования:\n",
    "my_arr = MyArray(5)\n",
    "my_arr.insert(0, 10)\n",
    "my_arr.insert(1, 20)\n",
    "my_arr.insert(2, 30)\n",
    "print(my_arr.get(1))  # Вывод: 20\n",
    "my_arr.remove(1)\n",
    "print(my_arr.get(1))  # Вывод: 30\n"
   ]
  }
 ],
 "metadata": {
  "language_info": {
   "name": "python"
  }
 },
 "nbformat": 4,
 "nbformat_minor": 2
}
