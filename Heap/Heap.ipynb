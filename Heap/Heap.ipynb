{
 "cells": [
  {
   "cell_type": "markdown",
   "metadata": {},
   "source": [
    "В Python реализована мин-куча через модуль heapq. Она позволяет быстро извлекать минимальный элемент."
   ]
  },
  {
   "cell_type": "code",
   "execution_count": null,
   "metadata": {},
   "outputs": [],
   "source": [
    "import heapq\n",
    "\n",
    "heap = []\n",
    "\n",
    "# Добавление элементов в кучу\n",
    "heapq.heappush(heap, 10)\n",
    "heapq.heappush(heap, 5)\n",
    "heapq.heappush(heap, 15)\n",
    "\n",
    "# Извлечение минимального элемента\n",
    "min_val = heapq.heappop(heap)\n",
    "print(min_val)  # Вывод: 5\n"
   ]
  },
  {
   "cell_type": "markdown",
   "metadata": {},
   "source": [
    "В Python heapq реализует только min-heap, для max-heap обычно берут отрицательные значения элементов (мин-куча поверх них) или пишут свою реализацию:"
   ]
  },
  {
   "cell_type": "code",
   "execution_count": null,
   "metadata": {},
   "outputs": [],
   "source": [
    "class MaxHeap:\n",
    "    def __init__(self):\n",
    "        self.heap = []\n",
    "\n",
    "    def insert(self, value):\n",
    "        \"\"\"\n",
    "        Вставляем новый элемент в кучу (max-heap).\n",
    "        \"\"\"\n",
    "        self.heap.append(value)\n",
    "        self._heapify_up(len(self.heap) - 1)\n",
    "\n",
    "    def extract_max(self):\n",
    "        \"\"\"\n",
    "        Извлекаем максимальный элемент (корень).\n",
    "        \"\"\"\n",
    "        if not self.heap:\n",
    "            print(\"Куча пуста!\")\n",
    "            return None\n",
    "\n",
    "        # Меняем местами корень с последним элементом\n",
    "        self._swap(0, len(self.heap) - 1)\n",
    "        max_value = self.heap.pop()  # Извлекаем последний (бывший корень)\n",
    "        self._heapify_down(0)\n",
    "        return max_value\n",
    "\n",
    "    def _heapify_up(self, index):\n",
    "        \"\"\"\n",
    "        Проталкиваем элемент вверх (если он больше родителя).\n",
    "        \"\"\"\n",
    "        parent_index = (index - 1) // 2\n",
    "        # Пока index > 0 и значение больше значения родителя, меняем их местами\n",
    "        while index > 0 and self.heap[index] > self.heap[parent_index]:\n",
    "            self._swap(index, parent_index)\n",
    "            index = parent_index\n",
    "            parent_index = (index - 1) // 2\n",
    "\n",
    "    def _heapify_down(self, index):\n",
    "        \"\"\"\n",
    "        Проталкиваем элемент вниз (если он меньше потомков).\n",
    "        \"\"\"\n",
    "        size = len(self.heap)\n",
    "        while True:\n",
    "            left_child = 2*index + 1\n",
    "            right_child = 2*index + 2\n",
    "            largest = index\n",
    "\n",
    "            # Проверяем левого потомка\n",
    "            if left_child < size and self.heap[left_child] > self.heap[largest]:\n",
    "                largest = left_child\n",
    "\n",
    "            # Проверяем правого потомка\n",
    "            if right_child < size and self.heap[right_child] > self.heap[largest]:\n",
    "                largest = right_child\n",
    "\n",
    "            # Если индекс не изменился, значит мы на месте\n",
    "            if largest == index:\n",
    "                break\n",
    "\n",
    "            # Иначе меняем местами и продолжаем\n",
    "            self._swap(index, largest)\n",
    "            index = largest\n",
    "\n",
    "    def _swap(self, i, j):\n",
    "        \"\"\"\n",
    "        Вспомогательный метод для обмена элементов.\n",
    "        \"\"\"\n",
    "        self.heap[i], self.heap[j] = self.heap[j], self.heap[i]\n",
    "\n",
    "\n",
    "# Пример использования max-heap:\n",
    "mh = MaxHeap()\n",
    "mh.insert(10)\n",
    "mh.insert(20)\n",
    "mh.insert(5)\n",
    "print(mh.extract_max())  # Вывод: 20\n",
    "print(mh.extract_max())  # Вывод: 10\n"
   ]
  }
 ],
 "metadata": {
  "language_info": {
   "name": "python"
  }
 },
 "nbformat": 4,
 "nbformat_minor": 2
}
