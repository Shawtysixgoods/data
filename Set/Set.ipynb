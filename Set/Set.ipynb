{
 "cells": [
  {
   "cell_type": "markdown",
   "metadata": {},
   "source": [
    "Пример кода с использованием встроенного множества"
   ]
  },
  {
   "cell_type": "code",
   "execution_count": null,
   "metadata": {},
   "outputs": [],
   "source": [
    "# Создание множества\n",
    "my_set = set()\n",
    "\n",
    "# Добавление элементов\n",
    "my_set.add(10)\n",
    "my_set.add(20)\n",
    "\n",
    "# Удаление элемента\n",
    "my_set.remove(10)\n",
    "\n",
    "# Проверка наличия элемента\n",
    "print(20 in my_set)  # Вывод: True\n"
   ]
  },
  {
   "cell_type": "markdown",
   "metadata": {},
   "source": [
    "Пример с классом для реализации множества\n"
   ]
  },
  {
   "cell_type": "code",
   "execution_count": null,
   "metadata": {},
   "outputs": [],
   "source": [
    "class Set:\n",
    "    def __init__(self):\n",
    "        self.set = []  # Инициализация пустого списка для множества\n",
    "\n",
    "    def add(self, item):\n",
    "        # Добавление элемента в множество (если его нет)\n",
    "        if item not in self.set:\n",
    "            self.set.append(item)\n",
    "\n",
    "    def remove(self, item):\n",
    "        # Удаление элемента из множества\n",
    "        if item in self.set:\n",
    "            self.set.remove(item)\n",
    "        else:\n",
    "            print(\"Элемент не найден!\")\n",
    "\n",
    "    def contains(self, item):\n",
    "        # Проверка наличия элемента\n",
    "        return item in self.set\n",
    "\n",
    "    def size(self):\n",
    "        # Возврат количества элементов в множестве\n",
    "        return len(self.set)\n",
    "\n",
    "\n",
    "# Пример использования множества с классом:\n",
    "my_set = Set()\n",
    "my_set.add(10)\n",
    "my_set.add(20)\n",
    "my_set.add(10)\n",
    "\n",
    "print(my_set.contains(20))  # Вывод: True\n",
    "print(my_set.size())  # Вывод: 2 (дублирующие элементы не добавляются)\n"
   ]
  }
 ],
 "metadata": {
  "language_info": {
   "name": "python"
  }
 },
 "nbformat": 4,
 "nbformat_minor": 2
}
