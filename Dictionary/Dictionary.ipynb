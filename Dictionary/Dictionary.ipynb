{
 "cells": [
  {
   "cell_type": "markdown",
   "metadata": {},
   "source": [
    "Пример кода с использованием встроенного словаря"
   ]
  },
  {
   "cell_type": "code",
   "execution_count": null,
   "metadata": {},
   "outputs": [],
   "source": [
    "# Создание словаря\n",
    "my_dict = {}\n",
    "\n",
    "# Добавление элементов\n",
    "my_dict['name'] = 'Alice'\n",
    "my_dict['age'] = 25\n",
    "\n",
    "# Получение значения по ключу\n",
    "print(my_dict['name'])  # Вывод: Alice\n",
    "\n",
    "# Удаление элемента по ключу\n",
    "del my_dict['age']\n",
    "\n",
    "# Проверка наличия ключа\n",
    "print('age' in my_dict)  # Вывод: False\n"
   ]
  },
  {
   "cell_type": "markdown",
   "metadata": {},
   "source": [
    "Пример с классом для реализации словаря"
   ]
  },
  {
   "cell_type": "code",
   "execution_count": null,
   "metadata": {},
   "outputs": [],
   "source": [
    "class Dictionary:\n",
    "    def __init__(self):\n",
    "        self.dict = {}  # Инициализация пустого словаря\n",
    "\n",
    "    def add(self, key, value):\n",
    "        # Добавление пары ключ-значение\n",
    "        self.dict[key] = value\n",
    "\n",
    "    def remove(self, key):\n",
    "        # Удаление элемента по ключу\n",
    "        if key in self.dict:\n",
    "            del self.dict[key]\n",
    "        else:\n",
    "            print(\"Ключ не найден!\")\n",
    "\n",
    "    def get(self, key):\n",
    "        # Получение значения по ключу\n",
    "        return self.dict.get(key, None)\n",
    "\n",
    "    def contains(self, key):\n",
    "        # Проверка наличия ключа\n",
    "        return key in self.dict\n",
    "\n",
    "    def size(self):\n",
    "        # Возврат количества элементов\n",
    "        return len(self.dict)\n",
    "\n",
    "\n",
    "# Пример использования словаря с классом:\n",
    "my_dict = Dictionary()\n",
    "my_dict.add('name', 'Alice')\n",
    "my_dict.add('age', 25)\n",
    "\n",
    "print(my_dict.get('name'))  # Вывод: Alice\n",
    "print(my_dict.contains('age'))  # Вывод: True\n"
   ]
  }
 ],
 "metadata": {
  "language_info": {
   "name": "python"
  }
 },
 "nbformat": 4,
 "nbformat_minor": 2
}
