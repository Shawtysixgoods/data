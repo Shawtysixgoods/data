{
 "cells": [
  {
   "cell_type": "markdown",
   "metadata": {},
   "source": [
    "Пример кода с использованием deque"
   ]
  },
  {
   "cell_type": "code",
   "execution_count": null,
   "metadata": {},
   "outputs": [],
   "source": [
    "from collections import deque\n",
    "\n",
    "# Создание дека\n",
    "dq = deque()\n",
    "\n",
    "# Добавление элементов в конец\n",
    "dq.append(10)\n",
    "dq.append(20)\n",
    "\n",
    "# Добавление элементов в начало\n",
    "dq.appendleft(5)\n",
    "\n",
    "# Удаление элементов с конца\n",
    "dq.pop()\n",
    "\n",
    "# Удаление элементов с начала\n",
    "dq.popleft()\n",
    "\n",
    "print(dq)  # Вывод: deque([10])\n"
   ]
  },
  {
   "cell_type": "markdown",
   "metadata": {},
   "source": [
    "Пример с классом для реализации дека"
   ]
  },
  {
   "cell_type": "code",
   "execution_count": null,
   "metadata": {},
   "outputs": [],
   "source": [
    "class Deque:\n",
    "    def __init__(self):\n",
    "        self.deque = []  # Инициализация пустого списка для дека\n",
    "\n",
    "    def append(self, item):\n",
    "        # Добавление элемента в конец дека\n",
    "        self.deque.append(item)\n",
    "\n",
    "    def appendleft(self, item):\n",
    "        # Добавление элемента в начало дека\n",
    "        self.deque.insert(0, item)\n",
    "\n",
    "    def pop(self):\n",
    "        # Удаление и возврат элемента с конца\n",
    "        if not self.is_empty():\n",
    "            return self.deque.pop()\n",
    "        else:\n",
    "            print(\"Дек пуст!\")\n",
    "\n",
    "    def popleft(self):\n",
    "        # Удаление и возврат элемента с начала\n",
    "        if not self.is_empty():\n",
    "            return self.deque.pop(0)\n",
    "        else:\n",
    "            print(\"Дек пуст!\")\n",
    "\n",
    "    def peek(self):\n",
    "        # Возврат первого элемента без удаления\n",
    "        if not self.is_empty():\n",
    "            return self.deque[0]\n",
    "        else:\n",
    "            print(\"Дек пуст!\")\n",
    "\n",
    "    def is_empty(self):\n",
    "        # Проверка, пуст ли дек\n",
    "        return len(self.deque) == 0\n",
    "\n",
    "    def size(self):\n",
    "        # Возврат количества элементов в деке\n",
    "        return len(self.deque)\n",
    "\n",
    "\n",
    "# Пример использования дека с классом:\n",
    "dq = Deque()\n",
    "dq.append(10)\n",
    "dq.append(20)\n",
    "dq.appendleft(5)\n",
    "\n",
    "print(dq.pop())  # Вывод: 20\n",
    "print(dq.popleft())  # Вывод: 5\n"
   ]
  }
 ],
 "metadata": {
  "language_info": {
   "name": "python"
  }
 },
 "nbformat": 4,
 "nbformat_minor": 2
}
